{
 "cells": [
  {
   "cell_type": "code",
   "execution_count": 1,
   "metadata": {},
   "outputs": [],
   "source": [
    "import numpy as np\n",
    "from sklearn.neighbors import KDTree\n",
    "import matplotlib.pyplot as plt"
   ]
  },
  {
   "cell_type": "code",
   "execution_count": 2,
   "metadata": {},
   "outputs": [],
   "source": [
    "def load_dataset(name):\n",
    "    path = \"Datasets/{}\".format(name)\n",
    "    with open(path) as f:\n",
    "        arr = []\n",
    "        for line in f:\n",
    "            line = line.strip()\n",
    "            arr.append(line.split(\"\\t\"))\n",
    "    D = np.array(arr, dtype=np.float32)\n",
    "    Y = D[:,0].reshape(-1,1)\n",
    "    y = (Y == 1) * 1 + (Y != 1) * -1\n",
    "    return (D[:,1:], y)"
   ]
  },
  {
   "cell_type": "code",
   "execution_count": 3,
   "metadata": {},
   "outputs": [],
   "source": [
    "def make_adj(X):\n",
    "    W = np.zeros((X.shape[0], X.shape[0]))\n",
    "    kd = KDTree(X)\n",
    "    idx = kd.query(X, k=3, return_distance=False)\n",
    "    for i in range(idx.shape[0]):\n",
    "        for j in idx[i]:\n",
    "            W[i,j] = (j != i) * 1\n",
    "            W[j,i] = W[i,j]\n",
    "    D = np.diag(np.sum(W, axis=1).T)\n",
    "    return W, D, (D - W)\n",
    "\n",
    "def harmonic(X, y, l):\n",
    "    l_end = len(l)\n",
    "    all_idx = np.arange(start=0, stop=y.shape[0], step=1, dtype=np.uint32)\n",
    "    l_msk = np.ones(y.shape[0], dtype=bool)\n",
    "    l_msk[l] = False\n",
    "    u = all_idx[l_msk]\n",
    "    X_ = np.vstack([X[l,:], X[u,:]])\n",
    "    y_ = np.vstack([y[l,:], y[u,:]])\n",
    "    W,_,L = make_adj(X_)\n",
    "    L_inv = np.linalg.pinv(L[l_end:, l_end:])\n",
    "    interploated = L_inv @ W[l_end:, :l_end] @ y_[:l_end]\n",
    "    return y_, np.vstack([y_[:l_end], np.sign(interploated)])\n",
    "\n",
    "def harmonic_kernel(X, y, l):\n",
    "    _,_,L = make_adj(X)\n",
    "    l_len = len(l)\n",
    "    L_inv = np.linalg.pinv(L)\n",
    "    K = np.zeros((l_len, l_len))\n",
    "    for i in range(l_len):\n",
    "        for j in range(l_len):\n",
    "            K[i, j] = L_inv[l[i],l[j]]\n",
    "    y_l = y[l]\n",
    "    alpha = np.linalg.pinv(K) @ y_l\n",
    "    ae = np.zeros((1, L.shape[0]))\n",
    "    for i, idx in enumerate(l):\n",
    "        ae[0, idx] = alpha[i]\n",
    "    return y, np.sign(ae @ L_inv).T\n",
    "\n",
    "def sample_labels(y, num):\n",
    "    return np.random.choice(y, size=(num,))\n",
    "\n",
    "def emp_err(gt, pred):\n",
    "    return (gt != pred).astype(int).sum() / len(gt)\n",
    "\n",
    "def laplacian_introp(X, y, sample_idx):\n",
    "    sz = len(sample_idx)\n",
    "    gt_all, pred_all = harmonic(X, y, sample_idx)\n",
    "    return emp_err(gt_all[sz:], pred_all[sz:])\n",
    "\n",
    "def laplacian_kernel_introp(X, y, sample_idx):\n",
    "    gt_all, pred_all = harmonic_kernel(X, y, sample_idx)\n",
    "    return emp_err(gt_all, pred_all)\n",
    "    "
   ]
  },
  {
   "cell_type": "code",
   "execution_count": 4,
   "metadata": {},
   "outputs": [],
   "source": [
    "def run_protocol():\n",
    "    ds_size = [50, 100, 200, 400]\n",
    "    l_size = [1,2,4,8,16]\n",
    "    tables = np.zeros((len(ds_size), len(l_size), 2, 2))\n",
    "    for i, sz in enumerate(ds_size):\n",
    "        X, y = load_dataset(\"dtrain13_{}.dat\".format(sz))\n",
    "        clss_1 = np.arange(0, sz, 1, int)\n",
    "        clss_2 = np.arange(sz, sz * 2, 1, int)\n",
    "        for j, l in enumerate(l_size):\n",
    "            errLI = []\n",
    "            errKLI = []\n",
    "            for _ in range(20):\n",
    "                sampled_clss_1 = np.random.choice(clss_1, (l,), replace=False)\n",
    "                sampled_clss_2 = np.random.choice(clss_2, (l,), replace=False)\n",
    "                L_cal = np.hstack([sampled_clss_1, sampled_clss_2])\n",
    "                errLI.append(laplacian_introp(X, y, L_cal))\n",
    "                errKLI.append(laplacian_kernel_introp(X, y, L_cal))\n",
    "            tables[i, j, 0, 0] = np.mean(errLI)\n",
    "            tables[i, j, 1, 0] = np.std(errLI)\n",
    "            tables[i, j, 0, 1] = np.mean(errKLI)\n",
    "            tables[i, j, 1, 1] = np.std(errKLI)\n",
    "            print(\"size={}, l={}: eli={}, ekli={}\".format(sz, l, tables[i, j, :, 0], tables[i, j, :, 1]))\n",
    "    return tables"
   ]
  },
  {
   "cell_type": "code",
   "execution_count": 5,
   "metadata": {},
   "outputs": [
    {
     "name": "stdout",
     "output_type": "stream",
     "text": [
      "size=50, l=1: eli=[0.19846939 0.10508099], ekli=[0.0455     0.01243986]\n",
      "size=50, l=2: eli=[0.13802083 0.10210857], ekli=[0.0695     0.06681878]\n",
      "size=50, l=4: eli=[0.08532609 0.08892308], ekli=[0.0495     0.02479415]\n",
      "size=50, l=8: eli=[0.05833333 0.02377974], ekli=[0.044      0.01854724]\n",
      "size=50, l=16: eli=[0.04485294 0.0182939 ], ekli=[0.0275     0.01042833]\n",
      "size=100, l=1: eli=[0.09393939 0.09796418], ekli=[0.10675    0.17077965]\n",
      "size=100, l=2: eli=[0.06147959 0.01856996], ekli=[0.0665     0.01406236]\n",
      "size=100, l=4: eli=[0.07526042 0.04132264], ekli=[0.06675    0.02903769]\n",
      "size=100, l=8: eli=[0.05163043 0.0149333 ], ekli=[0.04725    0.01427191]\n",
      "size=100, l=16: eli=[0.04464286 0.02795085], ekli=[0.0375    0.0252735]\n",
      "size=200, l=1: eli=[0.06871859 0.11585959], ekli=[0.024375   0.02630203]\n",
      "size=200, l=2: eli=[0.03396465 0.03435156], ekli=[0.022625   0.01521666]\n",
      "size=200, l=4: eli=[0.02793367 0.01529496], ekli=[0.019375   0.00921531]\n",
      "size=200, l=8: eli=[0.02317708 0.01449705], ekli=[0.020375   0.00881316]\n",
      "size=200, l=16: eli=[0.0173913  0.00826015], ekli=[0.015125   0.00726615]\n",
      "size=400, l=1: eli=[0.05989975 0.10618303], ekli=[0.0095625  0.00316906]\n",
      "size=400, l=2: eli=[0.01451005 0.0049376 ], ekli=[0.0090625  0.00281944]\n",
      "size=400, l=4: eli=[0.01717172 0.0112395 ], ekli=[0.009875   0.00344374]\n",
      "size=400, l=8: eli=[0.0151148  0.00415814], ekli=[0.0095  0.00275]\n",
      "size=400, l=16: eli=[0.01445313 0.0055838 ], ekli=[0.010125  0.0037687]\n"
     ]
    }
   ],
   "source": [
    "tables = run_protocol()"
   ]
  },
  {
   "cell_type": "code",
   "execution_count": 150,
   "metadata": {},
   "outputs": [
    {
     "data": {
      "text/plain": [
       "array([[0.23469388, 0.15104167, 0.09836957, 0.05654762, 0.05220588],\n",
       "       [0.19545455, 0.06862245, 0.0765625 , 0.06657609, 0.03630952],\n",
       "       [0.07248744, 0.04267677, 0.02295918, 0.02083333, 0.01970109],\n",
       "       [0.1127193 , 0.01991206, 0.01559343, 0.01619898, 0.0140625 ]])"
      ]
     },
     "execution_count": 150,
     "metadata": {},
     "output_type": "execute_result"
    }
   ],
   "source": [
    "tables[:,:,0]"
   ]
  },
  {
   "cell_type": "code",
   "execution_count": 151,
   "metadata": {},
   "outputs": [
    {
     "data": {
      "text/plain": [
       "array([[0.078    , 0.074    , 0.058    , 0.0435   , 0.031    ],\n",
       "       [0.17275  , 0.06125  , 0.064    , 0.0525   , 0.0305   ],\n",
       "       [0.016    , 0.017125 , 0.0165   , 0.0185   , 0.017    ],\n",
       "       [0.01     , 0.014375 , 0.0086875, 0.0100625, 0.00925  ]])"
      ]
     },
     "execution_count": 151,
     "metadata": {},
     "output_type": "execute_result"
    }
   ],
   "source": [
    "tables[:,:,1]"
   ]
  },
  {
   "cell_type": "code",
   "execution_count": 8,
   "metadata": {},
   "outputs": [],
   "source": [
    "def produce_latex_table(tbl):\n",
    "    ds_size = [50, 100, 200, 400]\n",
    "    l_size = [1,2,4,8,16]\n",
    "    for l in l_size:\n",
    "        print(\" & \", str(l), end='')\n",
    "    print(\" \\\\\\\\\")\n",
    "    for i in range(tbl.shape[0]):\n",
    "        s = [str(ds_size[i])]\n",
    "        for j in range(tbl.shape[1]):\n",
    "            s.append(\"\\(%.2f \\pm %.2f\\)\"%(tbl[i, j, 0], tbl[i, j, 1]))\n",
    "        print(\" & \".join(s), \" \\\\\\\\\")\n"
   ]
  },
  {
   "cell_type": "code",
   "execution_count": 9,
   "metadata": {},
   "outputs": [
    {
     "name": "stdout",
     "output_type": "stream",
     "text": [
      " &  1 &  2 &  4 &  8 &  16 \\\\\n",
      "50 & \\(0.20 \\pm 0.11\\) & \\(0.14 \\pm 0.10\\) & \\(0.09 \\pm 0.09\\) & \\(0.06 \\pm 0.02\\) & \\(0.04 \\pm 0.02\\)  \\\\\n",
      "100 & \\(0.09 \\pm 0.10\\) & \\(0.06 \\pm 0.02\\) & \\(0.08 \\pm 0.04\\) & \\(0.05 \\pm 0.01\\) & \\(0.04 \\pm 0.03\\)  \\\\\n",
      "200 & \\(0.07 \\pm 0.12\\) & \\(0.03 \\pm 0.03\\) & \\(0.03 \\pm 0.02\\) & \\(0.02 \\pm 0.01\\) & \\(0.02 \\pm 0.01\\)  \\\\\n",
      "400 & \\(0.06 \\pm 0.11\\) & \\(0.01 \\pm 0.00\\) & \\(0.02 \\pm 0.01\\) & \\(0.02 \\pm 0.00\\) & \\(0.01 \\pm 0.01\\)  \\\\\n"
     ]
    }
   ],
   "source": [
    "produce_latex_table(tables[:,:,:,0])"
   ]
  },
  {
   "cell_type": "code",
   "execution_count": 10,
   "metadata": {},
   "outputs": [
    {
     "name": "stdout",
     "output_type": "stream",
     "text": [
      " &  1 &  2 &  4 &  8 &  16 \\\\\n",
      "50 & \\(0.05 \\pm 0.01\\) & \\(0.07 \\pm 0.07\\) & \\(0.05 \\pm 0.02\\) & \\(0.04 \\pm 0.02\\) & \\(0.03 \\pm 0.01\\)  \\\\\n",
      "100 & \\(0.11 \\pm 0.17\\) & \\(0.07 \\pm 0.01\\) & \\(0.07 \\pm 0.03\\) & \\(0.05 \\pm 0.01\\) & \\(0.04 \\pm 0.03\\)  \\\\\n",
      "200 & \\(0.02 \\pm 0.03\\) & \\(0.02 \\pm 0.02\\) & \\(0.02 \\pm 0.01\\) & \\(0.02 \\pm 0.01\\) & \\(0.02 \\pm 0.01\\)  \\\\\n",
      "400 & \\(0.01 \\pm 0.00\\) & \\(0.01 \\pm 0.00\\) & \\(0.01 \\pm 0.00\\) & \\(0.01 \\pm 0.00\\) & \\(0.01 \\pm 0.00\\)  \\\\\n"
     ]
    }
   ],
   "source": [
    "produce_latex_table(tables[:,:,:,1])"
   ]
  },
  {
   "cell_type": "code",
   "execution_count": null,
   "metadata": {},
   "outputs": [],
   "source": []
  }
 ],
 "metadata": {
  "kernelspec": {
   "display_name": "Python 3.9.13 ('base')",
   "language": "python",
   "name": "python3"
  },
  "language_info": {
   "codemirror_mode": {
    "name": "ipython",
    "version": 3
   },
   "file_extension": ".py",
   "mimetype": "text/x-python",
   "name": "python",
   "nbconvert_exporter": "python",
   "pygments_lexer": "ipython3",
   "version": "3.9.13"
  },
  "orig_nbformat": 4,
  "vscode": {
   "interpreter": {
    "hash": "d30c5807890883751a8e53c0dc3392c2109b45f9a06ee10e4caeee91b7e274e4"
   }
  }
 },
 "nbformat": 4,
 "nbformat_minor": 2
}
