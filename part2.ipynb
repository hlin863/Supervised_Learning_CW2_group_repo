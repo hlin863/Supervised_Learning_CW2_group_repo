{
 "cells": [
  {
   "cell_type": "code",
   "execution_count": 15,
   "metadata": {},
   "outputs": [],
   "source": [
    "import numpy as np\n",
    "from sklearn.neighbors import KDTree\n",
    "import matplotlib.pyplot as plt"
   ]
  },
  {
   "cell_type": "code",
   "execution_count": 98,
   "metadata": {},
   "outputs": [],
   "source": [
    "def load_dataset(name):\n",
    "    path = \"Datasets/{}\".format(name)\n",
    "    with open(path) as f:\n",
    "        arr = []\n",
    "        for line in f:\n",
    "            line = line.strip()\n",
    "            arr.append(line.split(\"\\t\"))\n",
    "    D = np.array(arr, dtype=np.float32)\n",
    "    Y = D[:,0].reshape(-1,1)\n",
    "    y = (Y == 1) * 1 + (Y != 1) * -1\n",
    "    return (D[:,1:], y)"
   ]
  },
  {
   "cell_type": "code",
   "execution_count": 153,
   "metadata": {},
   "outputs": [],
   "source": [
    "def make_adj(X):\n",
    "    W = np.zeros((X.shape[0], X.shape[0]))\n",
    "    kd = KDTree(X)\n",
    "    idx = kd.query(X, k=3, return_distance=False)\n",
    "    for i in range(idx.shape[0]):\n",
    "        for j in idx[i]:\n",
    "            W[i,j] = (j != i) * 1\n",
    "            W[j,i] = W[i,j]\n",
    "    D = np.diag(np.sum(W, axis=1).T)\n",
    "    return W, D, (D - W)\n",
    "\n",
    "def harmonic(X, y, l):\n",
    "    l_end = len(l)\n",
    "    all_idx = np.arange(start=0, stop=y.shape[0], step=1, dtype=np.uint32)\n",
    "    l_msk = np.ones(y.shape[0], dtype=bool)\n",
    "    l_msk[l] = False\n",
    "    u = all_idx[l_msk]\n",
    "    X_ = np.vstack([X[l,:], X[u,:]])\n",
    "    y_ = np.vstack([y[l,:], y[u,:]])\n",
    "    W,_,L = make_adj(X_)\n",
    "    L_inv = np.linalg.pinv(L[l_end:, l_end:])\n",
    "    interploated = L_inv @ W[l_end:, :l_end] @ y_[:l_end]\n",
    "    return y_, np.vstack([y_[:l_end], np.sign(interploated)])\n",
    "\n",
    "def harmonic_kernel(X, y, l):\n",
    "    _,_,L = make_adj(X)\n",
    "    l_len = len(l)\n",
    "    L_inv = np.linalg.pinv(L)\n",
    "    K = np.zeros((l_len, l_len))\n",
    "    for i in range(l_len):\n",
    "        for j in range(l_len):\n",
    "            K[i, j] = L_inv[l[i],l[j]]\n",
    "    y_l = y[l]\n",
    "    alpha = np.linalg.pinv(K) @ y_l\n",
    "    ae = np.zeros((1, L.shape[0]))\n",
    "    for i, idx in enumerate(l):\n",
    "        ae[0, idx] = alpha[i]\n",
    "    return y, np.sign(ae @ L_inv).T\n",
    "\n",
    "def sample_labels(y, num):\n",
    "    return np.random.choice(y, size=(num,))\n",
    "\n",
    "def emp_err(gt, pred):\n",
    "    return (gt != pred).astype(int).sum() / len(gt)\n",
    "\n",
    "def laplacian_introp(X, y, sample_idx):\n",
    "    sz = len(sample_idx)\n",
    "    gt_all, pred_all = harmonic(X, y, sample_idx)\n",
    "    return emp_err(gt_all[sz:], pred_all[sz:])\n",
    "\n",
    "def laplacian_kernel_introp(X, y, sample_idx):\n",
    "    gt_all, pred_all = harmonic_kernel(X, y, sample_idx)\n",
    "    return emp_err(gt_all, pred_all)\n",
    "    "
   ]
  },
  {
   "cell_type": "code",
   "execution_count": 154,
   "metadata": {},
   "outputs": [],
   "source": [
    "def run_protocol():\n",
    "    ds_size = [50, 100, 200, 400]\n",
    "    l_size = [1,2,4,8,16]\n",
    "    tables = np.zeros((len(ds_size), len(l_size), 2))\n",
    "    for i, sz in enumerate(ds_size):\n",
    "        X, y = load_dataset(\"dtrain13_{}.dat\".format(sz))\n",
    "        clss_1 = np.arange(0, sz, 1, int)\n",
    "        clss_2 = np.arange(sz, sz * 2, 1, int)\n",
    "        for j, l in enumerate(l_size):\n",
    "            errLI = 0\n",
    "            errKLI = 0\n",
    "            for _ in range(20):\n",
    "                sampled_clss_1 = np.random.choice(clss_1, (l,), replace=False)\n",
    "                sampled_clss_2 = np.random.choice(clss_2, (l,), replace=False)\n",
    "                L_cal = np.hstack([sampled_clss_1, sampled_clss_2])\n",
    "                errLI += laplacian_introp(X, y, L_cal)\n",
    "                errKLI += laplacian_kernel_introp(X, y, L_cal)\n",
    "            tables[i, j, 0] = errLI / 20\n",
    "            tables[i, j, 1] = errKLI / 20\n",
    "            print(\"size={}, l={}: eli={}, ekli={}\".format(sz, l, tables[i, j, 0], tables[i, j, 1]))\n",
    "    return tables"
   ]
  },
  {
   "cell_type": "code",
   "execution_count": 152,
   "metadata": {},
   "outputs": [
    {
     "name": "stdout",
     "output_type": "stream",
     "text": [
      "size=50, l=1: eli=0.18061224489795916, ekli=0.057499999999999996\n",
      "size=50, l=2: eli=0.134375, ekli=0.06600000000000002\n",
      "size=50, l=4: eli=0.07228260869565217, ekli=0.06600000000000003\n",
      "size=50, l=8: eli=0.050595238095238096, ekli=0.04\n",
      "size=50, l=16: eli=0.05220588235294117, ekli=0.026500000000000003\n",
      "size=100, l=1: eli=0.12979797979797975, ekli=0.10725\n",
      "size=100, l=2: eli=0.07066326530612244, ekli=0.06275\n",
      "size=100, l=4: eli=0.06848958333333333, ekli=0.061750000000000006\n",
      "size=100, l=8: eli=0.052445652173913046, ekli=0.048750000000000016\n",
      "size=100, l=16: eli=0.042261904761904764, ekli=0.03425000000000001\n",
      "size=200, l=1: eli=0.11608040201005025, ekli=0.018125000000000002\n",
      "size=200, l=2: eli=0.05694444444444445, ekli=0.01987500000000001\n",
      "size=200, l=4: eli=0.02844387755102041, ekli=0.021500000000000005\n",
      "size=200, l=8: eli=0.017838541666666666, ekli=0.018000000000000006\n",
      "size=200, l=16: eli=0.01807065217391304, ekli=0.016125000000000004\n",
      "size=400, l=1: eli=0.12349624060150374, ekli=0.011062500000000003\n",
      "size=400, l=2: eli=0.030527638190954776, ekli=0.009437500000000001\n",
      "size=400, l=4: eli=0.012563131313131314, ekli=0.009437500000000003\n",
      "size=400, l=8: eli=0.017602040816326534, ekli=0.012250000000000004\n",
      "size=400, l=16: eli=0.014192708333333335, ekli=0.009125000000000003\n"
     ]
    }
   ],
   "source": [
    "tables = run_protocol()"
   ]
  },
  {
   "cell_type": "code",
   "execution_count": 150,
   "metadata": {},
   "outputs": [
    {
     "data": {
      "text/plain": [
       "array([[0.23469388, 0.15104167, 0.09836957, 0.05654762, 0.05220588],\n",
       "       [0.19545455, 0.06862245, 0.0765625 , 0.06657609, 0.03630952],\n",
       "       [0.07248744, 0.04267677, 0.02295918, 0.02083333, 0.01970109],\n",
       "       [0.1127193 , 0.01991206, 0.01559343, 0.01619898, 0.0140625 ]])"
      ]
     },
     "execution_count": 150,
     "metadata": {},
     "output_type": "execute_result"
    }
   ],
   "source": [
    "tables[:,:,0]"
   ]
  },
  {
   "cell_type": "code",
   "execution_count": 151,
   "metadata": {},
   "outputs": [
    {
     "data": {
      "text/plain": [
       "array([[0.078    , 0.074    , 0.058    , 0.0435   , 0.031    ],\n",
       "       [0.17275  , 0.06125  , 0.064    , 0.0525   , 0.0305   ],\n",
       "       [0.016    , 0.017125 , 0.0165   , 0.0185   , 0.017    ],\n",
       "       [0.01     , 0.014375 , 0.0086875, 0.0100625, 0.00925  ]])"
      ]
     },
     "execution_count": 151,
     "metadata": {},
     "output_type": "execute_result"
    }
   ],
   "source": [
    "tables[:,:,1]"
   ]
  },
  {
   "cell_type": "code",
   "execution_count": null,
   "metadata": {},
   "outputs": [],
   "source": []
  }
 ],
 "metadata": {
  "kernelspec": {
   "display_name": "Python 3.9.13 ('base')",
   "language": "python",
   "name": "python3"
  },
  "language_info": {
   "codemirror_mode": {
    "name": "ipython",
    "version": 3
   },
   "file_extension": ".py",
   "mimetype": "text/x-python",
   "name": "python",
   "nbconvert_exporter": "python",
   "pygments_lexer": "ipython3",
   "version": "3.9.13"
  },
  "orig_nbformat": 4,
  "vscode": {
   "interpreter": {
    "hash": "d30c5807890883751a8e53c0dc3392c2109b45f9a06ee10e4caeee91b7e274e4"
   }
  }
 },
 "nbformat": 4,
 "nbformat_minor": 2
}
